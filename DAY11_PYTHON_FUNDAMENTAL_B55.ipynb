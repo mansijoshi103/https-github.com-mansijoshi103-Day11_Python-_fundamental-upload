{
 "cells": [
  {
   "cell_type": "code",
   "execution_count": null,
   "id": "1cb3f0d4",
   "metadata": {},
   "outputs": [],
   "source": [
    "Understanding the concept of user input:"
   ]
  },
  {
   "cell_type": "code",
   "execution_count": 1,
   "id": "1dbbd7b8",
   "metadata": {},
   "outputs": [
    {
     "name": "stdout",
     "output_type": "stream",
     "text": [
      "what is your namemansi\n",
      "mansi\n"
     ]
    }
   ],
   "source": [
    "message=input(\"what is your name\")\n",
    "print(message)"
   ]
  },
  {
   "cell_type": "code",
   "execution_count": 2,
   "id": "91dd074b",
   "metadata": {},
   "outputs": [
    {
     "name": "stdout",
     "output_type": "stream",
     "text": [
      "what is your name mansi\n",
      " mansi\n"
     ]
    }
   ],
   "source": [
    "message=input(\"what is your name\")\n",
    "print(message)"
   ]
  },
  {
   "cell_type": "code",
   "execution_count": 3,
   "id": "05f288b1",
   "metadata": {},
   "outputs": [
    {
     "name": "stdout",
     "output_type": "stream",
     "text": [
      "what is your name: Mansi\n",
      "\n",
      " hello,  Mansi\n"
     ]
    }
   ],
   "source": [
    "message=input(\"what is your name:\")\n",
    "print(f\"\\n hello, {message}\")\n",
    "\n"
   ]
  },
  {
   "cell_type": "code",
   "execution_count": 4,
   "id": "724d9f86",
   "metadata": {},
   "outputs": [],
   "source": [
    "prompt=\"hello \"\n",
    "\n",
    "prompt += \"\\n how are you?\""
   ]
  },
  {
   "cell_type": "code",
   "execution_count": 5,
   "id": "d2dcd822",
   "metadata": {},
   "outputs": [
    {
     "name": "stdout",
     "output_type": "stream",
     "text": [
      "hello \n",
      " how are you?Good\n",
      "\n",
      " good evening ,Good!\n"
     ]
    }
   ],
   "source": [
    "name= input(prompt)\n",
    "\n",
    "\n",
    "print(f\"\\n good evening ,{name}!\")"
   ]
  },
  {
   "cell_type": "code",
   "execution_count": 6,
   "id": "6ae02d96",
   "metadata": {},
   "outputs": [],
   "source": [
    "#accepting the numerical input"
   ]
  },
  {
   "cell_type": "code",
   "execution_count": 9,
   "id": "c43dcf2f",
   "metadata": {},
   "outputs": [],
   "source": [
    "#note: input by default ccept the input given in string format."
   ]
  },
  {
   "cell_type": "code",
   "execution_count": 8,
   "id": "f1de73ad",
   "metadata": {},
   "outputs": [
    {
     "name": "stdout",
     "output_type": "stream",
     "text": [
      "how old are you?22\n"
     ]
    }
   ],
   "source": [
    "age=input(\"how old are you?\")"
   ]
  },
  {
   "cell_type": "code",
   "execution_count": 10,
   "id": "7b0db12b",
   "metadata": {},
   "outputs": [
    {
     "ename": "TypeError",
     "evalue": "'>=' not supported between instances of 'str' and 'int'",
     "output_type": "error",
     "traceback": [
      "\u001b[1;31m---------------------------------------------------------------------------\u001b[0m",
      "\u001b[1;31mTypeError\u001b[0m                                 Traceback (most recent call last)",
      "\u001b[1;32m~\\AppData\\Local\\Temp/ipykernel_9440/3318092124.py\u001b[0m in \u001b[0;36m<module>\u001b[1;34m\u001b[0m\n\u001b[1;32m----> 1\u001b[1;33m \u001b[0mage\u001b[0m\u001b[1;33m>=\u001b[0m\u001b[1;36m22\u001b[0m\u001b[1;33m\u001b[0m\u001b[1;33m\u001b[0m\u001b[0m\n\u001b[0m",
      "\u001b[1;31mTypeError\u001b[0m: '>=' not supported between instances of 'str' and 'int'"
     ]
    }
   ],
   "source": [
    "age>=22\n"
   ]
  },
  {
   "cell_type": "code",
   "execution_count": 11,
   "id": "bbf16126",
   "metadata": {},
   "outputs": [],
   "source": [
    "#typecasting of the datatype:"
   ]
  },
  {
   "cell_type": "code",
   "execution_count": 14,
   "id": "015f070f",
   "metadata": {},
   "outputs": [
    {
     "name": "stdout",
     "output_type": "stream",
     "text": [
      "how old are you?22\n"
     ]
    }
   ],
   "source": [
    "age=input(\"how old are you?\")\n",
    "age=int(age)  #we are applying type casting \n"
   ]
  },
  {
   "cell_type": "code",
   "execution_count": null,
   "id": "665f57b1",
   "metadata": {},
   "outputs": [],
   "source": []
  },
  {
   "cell_type": "code",
   "execution_count": 15,
   "id": "b4781738",
   "metadata": {},
   "outputs": [
    {
     "data": {
      "text/plain": [
       "int"
      ]
     },
     "execution_count": 15,
     "metadata": {},
     "output_type": "execute_result"
    }
   ],
   "source": [
    "type(age)"
   ]
  },
  {
   "cell_type": "code",
   "execution_count": 16,
   "id": "27e6633f",
   "metadata": {},
   "outputs": [
    {
     "data": {
      "text/plain": [
       "True"
      ]
     },
     "execution_count": 16,
     "metadata": {},
     "output_type": "execute_result"
    }
   ],
   "source": [
    "age>= 16"
   ]
  },
  {
   "cell_type": "code",
   "execution_count": 17,
   "id": "a502429b",
   "metadata": {},
   "outputs": [],
   "source": [
    "#building a voting application and vallidating up on the age entered\n"
   ]
  },
  {
   "cell_type": "code",
   "execution_count": null,
   "id": "ea99b21c",
   "metadata": {},
   "outputs": [],
   "source": []
  },
  {
   "cell_type": "code",
   "execution_count": 18,
   "id": "5e916db1",
   "metadata": {},
   "outputs": [
    {
     "name": "stdout",
     "output_type": "stream",
     "text": [
      "How old are you16\n",
      "you are not eligible to vote, try next year !\n"
     ]
    }
   ],
   "source": [
    "age=input(\"How old are you\")\n",
    "age= int(age)\n",
    "\n",
    "if age>= 18:\n",
    "    print('you are eligible to vote')\n",
    "else:\n",
    "    print('you are not eligible to vote, try next year !')"
   ]
  },
  {
   "cell_type": "code",
   "execution_count": null,
   "id": "72b3e04b",
   "metadata": {},
   "outputs": [],
   "source": []
  },
  {
   "cell_type": "code",
   "execution_count": null,
   "id": "cdbee2ad",
   "metadata": {},
   "outputs": [],
   "source": []
  },
  {
   "cell_type": "code",
   "execution_count": 19,
   "id": "2b3017b9",
   "metadata": {},
   "outputs": [],
   "source": [
    "#UNDERSTANDING THE MODULE OPERATOR"
   ]
  },
  {
   "cell_type": "code",
   "execution_count": 20,
   "id": "8ae1e20f",
   "metadata": {},
   "outputs": [
    {
     "name": "stderr",
     "output_type": "stream",
     "text": [
      "UsageError: Line magic function `%` not found.\n"
     ]
    }
   ],
   "source": [
    "%\n"
   ]
  },
  {
   "cell_type": "code",
   "execution_count": 21,
   "id": "7a03532c",
   "metadata": {},
   "outputs": [
    {
     "data": {
      "text/plain": [
       "2"
      ]
     },
     "execution_count": 21,
     "metadata": {},
     "output_type": "execute_result"
    }
   ],
   "source": [
    "5%3"
   ]
  },
  {
   "cell_type": "code",
   "execution_count": 22,
   "id": "0e91835b",
   "metadata": {},
   "outputs": [],
   "source": [
    "# FINDING THE NUMBER ---EVEN OR ODD"
   ]
  },
  {
   "cell_type": "code",
   "execution_count": 28,
   "id": "d2c6040c",
   "metadata": {},
   "outputs": [
    {
     "name": "stdout",
     "output_type": "stream",
     "text": [
      "enter a number, and i will tell you if its even or odd12\n",
      "\n",
      " the number 12 is even\n"
     ]
    }
   ],
   "source": [
    "number=input('enter a number, and i will tell you if its even or odd')\n",
    "\n",
    "number=int(number)\n",
    "\n",
    "if number %2==0:\n",
    "    print(f\"\\n the number {number} is even\")\n",
    "else:\n",
    "    print(f\"\\n the number {number} is odd\")"
   ]
  },
  {
   "cell_type": "code",
   "execution_count": null,
   "id": "52ca3899",
   "metadata": {},
   "outputs": [],
   "source": []
  },
  {
   "cell_type": "code",
   "execution_count": 27,
   "id": "6deecaf8",
   "metadata": {},
   "outputs": [
    {
     "data": {
      "text/plain": [
       "11"
      ]
     },
     "execution_count": 27,
     "metadata": {},
     "output_type": "execute_result"
    }
   ],
   "source": [
    "11"
   ]
  },
  {
   "cell_type": "code",
   "execution_count": null,
   "id": "c35edd91",
   "metadata": {},
   "outputs": [],
   "source": []
  }
 ],
 "metadata": {
  "kernelspec": {
   "display_name": "Python 3 (ipykernel)",
   "language": "python",
   "name": "python3"
  },
  "language_info": {
   "codemirror_mode": {
    "name": "ipython",
    "version": 3
   },
   "file_extension": ".py",
   "mimetype": "text/x-python",
   "name": "python",
   "nbconvert_exporter": "python",
   "pygments_lexer": "ipython3",
   "version": "3.9.7"
  }
 },
 "nbformat": 4,
 "nbformat_minor": 5
}
